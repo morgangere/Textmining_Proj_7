{
 "cells": [
  {
   "cell_type": "markdown",
   "id": "fc539b9b",
   "metadata": {},
   "source": [
    "# Import"
   ]
  },
  {
   "cell_type": "code",
   "execution_count": 241,
   "id": "f911d646",
   "metadata": {},
   "outputs": [],
   "source": [
    "import pandas as pd\n",
    "# reading in the resturant reviews into a pandas data frame.\n",
    "train_df=pd.read_csv(r'C:\\Users\\Morga\\programsMG\\TextMining\\kaggle-sentiment\\train.tsv',sep='\\t',encoding=\"utf8\")\n",
    "test_df=pd.read_csv(r'C:\\Users\\Morga\\programsMG\\TextMining\\kaggle-sentiment\\test.tsv',sep='\\t',encoding=\"utf8\")"
   ]
  },
  {
   "cell_type": "code",
   "execution_count": 242,
   "id": "f7d88520",
   "metadata": {},
   "outputs": [
    {
     "data": {
      "text/html": [
       "<div>\n",
       "<style scoped>\n",
       "    .dataframe tbody tr th:only-of-type {\n",
       "        vertical-align: middle;\n",
       "    }\n",
       "\n",
       "    .dataframe tbody tr th {\n",
       "        vertical-align: top;\n",
       "    }\n",
       "\n",
       "    .dataframe thead th {\n",
       "        text-align: right;\n",
       "    }\n",
       "</style>\n",
       "<table border=\"1\" class=\"dataframe\">\n",
       "  <thead>\n",
       "    <tr style=\"text-align: right;\">\n",
       "      <th></th>\n",
       "      <th>PhraseId</th>\n",
       "      <th>SentenceId</th>\n",
       "      <th>Phrase</th>\n",
       "      <th>Sentiment</th>\n",
       "    </tr>\n",
       "  </thead>\n",
       "  <tbody>\n",
       "    <tr>\n",
       "      <th>0</th>\n",
       "      <td>1</td>\n",
       "      <td>1</td>\n",
       "      <td>A series of escapades demonstrating the adage ...</td>\n",
       "      <td>1</td>\n",
       "    </tr>\n",
       "    <tr>\n",
       "      <th>1</th>\n",
       "      <td>2</td>\n",
       "      <td>1</td>\n",
       "      <td>A series of escapades demonstrating the adage ...</td>\n",
       "      <td>2</td>\n",
       "    </tr>\n",
       "    <tr>\n",
       "      <th>2</th>\n",
       "      <td>3</td>\n",
       "      <td>1</td>\n",
       "      <td>A series</td>\n",
       "      <td>2</td>\n",
       "    </tr>\n",
       "    <tr>\n",
       "      <th>3</th>\n",
       "      <td>4</td>\n",
       "      <td>1</td>\n",
       "      <td>A</td>\n",
       "      <td>2</td>\n",
       "    </tr>\n",
       "    <tr>\n",
       "      <th>4</th>\n",
       "      <td>5</td>\n",
       "      <td>1</td>\n",
       "      <td>series</td>\n",
       "      <td>2</td>\n",
       "    </tr>\n",
       "  </tbody>\n",
       "</table>\n",
       "</div>"
      ],
      "text/plain": [
       "   PhraseId  SentenceId                                             Phrase  \\\n",
       "0         1           1  A series of escapades demonstrating the adage ...   \n",
       "1         2           1  A series of escapades demonstrating the adage ...   \n",
       "2         3           1                                           A series   \n",
       "3         4           1                                                  A   \n",
       "4         5           1                                             series   \n",
       "\n",
       "   Sentiment  \n",
       "0          1  \n",
       "1          2  \n",
       "2          2  \n",
       "3          2  \n",
       "4          2  "
      ]
     },
     "execution_count": 242,
     "metadata": {},
     "output_type": "execute_result"
    }
   ],
   "source": [
    "train_df.head()"
   ]
  },
  {
   "cell_type": "code",
   "execution_count": 243,
   "id": "1b28d4da",
   "metadata": {},
   "outputs": [
    {
     "data": {
      "text/html": [
       "<div>\n",
       "<style scoped>\n",
       "    .dataframe tbody tr th:only-of-type {\n",
       "        vertical-align: middle;\n",
       "    }\n",
       "\n",
       "    .dataframe tbody tr th {\n",
       "        vertical-align: top;\n",
       "    }\n",
       "\n",
       "    .dataframe thead th {\n",
       "        text-align: right;\n",
       "    }\n",
       "</style>\n",
       "<table border=\"1\" class=\"dataframe\">\n",
       "  <thead>\n",
       "    <tr style=\"text-align: right;\">\n",
       "      <th></th>\n",
       "      <th>PhraseId</th>\n",
       "      <th>SentenceId</th>\n",
       "      <th>Phrase</th>\n",
       "    </tr>\n",
       "  </thead>\n",
       "  <tbody>\n",
       "    <tr>\n",
       "      <th>0</th>\n",
       "      <td>156061</td>\n",
       "      <td>8545</td>\n",
       "      <td>An intermittently pleasing but mostly routine ...</td>\n",
       "    </tr>\n",
       "    <tr>\n",
       "      <th>1</th>\n",
       "      <td>156062</td>\n",
       "      <td>8545</td>\n",
       "      <td>An intermittently pleasing but mostly routine ...</td>\n",
       "    </tr>\n",
       "    <tr>\n",
       "      <th>2</th>\n",
       "      <td>156063</td>\n",
       "      <td>8545</td>\n",
       "      <td>An</td>\n",
       "    </tr>\n",
       "    <tr>\n",
       "      <th>3</th>\n",
       "      <td>156064</td>\n",
       "      <td>8545</td>\n",
       "      <td>intermittently pleasing but mostly routine effort</td>\n",
       "    </tr>\n",
       "    <tr>\n",
       "      <th>4</th>\n",
       "      <td>156065</td>\n",
       "      <td>8545</td>\n",
       "      <td>intermittently pleasing but mostly routine</td>\n",
       "    </tr>\n",
       "    <tr>\n",
       "      <th>...</th>\n",
       "      <td>...</td>\n",
       "      <td>...</td>\n",
       "      <td>...</td>\n",
       "    </tr>\n",
       "    <tr>\n",
       "      <th>66287</th>\n",
       "      <td>222348</td>\n",
       "      <td>11855</td>\n",
       "      <td>A long-winded , predictable scenario .</td>\n",
       "    </tr>\n",
       "    <tr>\n",
       "      <th>66288</th>\n",
       "      <td>222349</td>\n",
       "      <td>11855</td>\n",
       "      <td>A long-winded , predictable scenario</td>\n",
       "    </tr>\n",
       "    <tr>\n",
       "      <th>66289</th>\n",
       "      <td>222350</td>\n",
       "      <td>11855</td>\n",
       "      <td>A long-winded ,</td>\n",
       "    </tr>\n",
       "    <tr>\n",
       "      <th>66290</th>\n",
       "      <td>222351</td>\n",
       "      <td>11855</td>\n",
       "      <td>A long-winded</td>\n",
       "    </tr>\n",
       "    <tr>\n",
       "      <th>66291</th>\n",
       "      <td>222352</td>\n",
       "      <td>11855</td>\n",
       "      <td>predictable scenario</td>\n",
       "    </tr>\n",
       "  </tbody>\n",
       "</table>\n",
       "<p>66292 rows × 3 columns</p>\n",
       "</div>"
      ],
      "text/plain": [
       "       PhraseId  SentenceId                                             Phrase\n",
       "0        156061        8545  An intermittently pleasing but mostly routine ...\n",
       "1        156062        8545  An intermittently pleasing but mostly routine ...\n",
       "2        156063        8545                                                 An\n",
       "3        156064        8545  intermittently pleasing but mostly routine effort\n",
       "4        156065        8545         intermittently pleasing but mostly routine\n",
       "...         ...         ...                                                ...\n",
       "66287    222348       11855             A long-winded , predictable scenario .\n",
       "66288    222349       11855               A long-winded , predictable scenario\n",
       "66289    222350       11855                                    A long-winded ,\n",
       "66290    222351       11855                                      A long-winded\n",
       "66291    222352       11855                               predictable scenario\n",
       "\n",
       "[66292 rows x 3 columns]"
      ]
     },
     "execution_count": 243,
     "metadata": {},
     "output_type": "execute_result"
    }
   ],
   "source": [
    "test_df"
   ]
  },
  {
   "cell_type": "code",
   "execution_count": 244,
   "id": "def48ad9",
   "metadata": {
    "scrolled": true
   },
   "outputs": [
    {
     "name": "stdout",
     "output_type": "stream",
     "text": [
      "2    79582\n",
      "3    32927\n",
      "1    27273\n",
      "4     9206\n",
      "0     7072\n",
      "Name: Sentiment, dtype: int64\n",
      "baseline: 0.5099448929898757\n"
     ]
    }
   ],
   "source": [
    "#checking the counts of the labels\n",
    "#this is for when the full data set is used ie cross validation\n",
    "print(train_df['Sentiment'].value_counts())\n",
    "print('baseline:',79582/sum(train_df['Sentiment'].value_counts()))"
   ]
  },
  {
   "cell_type": "code",
   "execution_count": 245,
   "id": "02426fb7",
   "metadata": {},
   "outputs": [],
   "source": [
    "#seperating the label\n",
    "y=train_df['Sentiment'].values\n",
    "X=train_df['Phrase'].values\n",
    "\n",
    "z=test_df['Phrase'].values\n",
    "kaggle_ids=test_df['PhraseId'].values"
   ]
  },
  {
   "cell_type": "markdown",
   "id": "1d5d4b8b",
   "metadata": {},
   "source": [
    "# Splitting data"
   ]
  },
  {
   "cell_type": "code",
   "execution_count": 246,
   "id": "0ba48af9",
   "metadata": {},
   "outputs": [
    {
     "name": "stdout",
     "output_type": "stream",
     "text": [
      "(93636,) (93636,) (62424,) (62424,)\n"
     ]
    }
   ],
   "source": [
    "#selecting 40% of the data for testing  and 60% for training\n",
    "from sklearn.model_selection import train_test_split\n",
    "X_train, X_test, y_train, y_test = train_test_split(X, y, test_size=0.4, random_state=0)\n",
    "\n",
    "print(X_train.shape, y_train.shape, X_test.shape, y_test.shape)"
   ]
  },
  {
   "cell_type": "code",
   "execution_count": 247,
   "id": "ceded3b3",
   "metadata": {},
   "outputs": [
    {
     "name": "stdout",
     "output_type": "stream",
     "text": [
      "{0, 1, 2, 3, 4}\n",
      "(array([0, 1, 2, 3, 4], dtype=int64), array([ 4141, 16449, 47718, 19859,  5469], dtype=int64))\n"
     ]
    }
   ],
   "source": [
    "#first makding sure all labels are present\n",
    "training_labels = set(y_train)\n",
    "print(training_labels)\n",
    "\n",
    "from scipy.stats import itemfreq\n",
    "import numpy as np\n",
    "#finding the distribution of training examples\n",
    "training_category_dist = np.unique(y_train,return_counts=True)\n",
    "print(training_category_dist)"
   ]
  },
  {
   "cell_type": "code",
   "execution_count": 248,
   "id": "a5baba95",
   "metadata": {},
   "outputs": [
    {
     "name": "stdout",
     "output_type": "stream",
     "text": [
      "0.5096116878123799\n"
     ]
    }
   ],
   "source": [
    "#finding the baseline for the trianing data\n",
    "training_category_dist\n",
    "print(47718/sum(training_category_dist[1]))"
   ]
  },
  {
   "cell_type": "markdown",
   "id": "04240ae1",
   "metadata": {},
   "source": [
    "# Unigram SVM vs MNB"
   ]
  },
  {
   "cell_type": "code",
   "execution_count": 249,
   "id": "75f5de6c",
   "metadata": {},
   "outputs": [],
   "source": [
    "from sklearn.feature_extraction.text import TfidfVectorizer\n",
    "#  unigram tfidf vectorizer, set minimum document frequency to 5\n",
    "unigram_tfidf_vectorizer = TfidfVectorizer(encoding='latin-1', use_idf=True, min_df=5, stop_words='english')"
   ]
  },
  {
   "cell_type": "code",
   "execution_count": 250,
   "id": "9208e2ce",
   "metadata": {},
   "outputs": [],
   "source": [
    "# fitting and transforming the training data using the count vectorizer\n",
    "X_train_vec = unigram_tfidf_vectorizer.fit_transform(X_train)"
   ]
  },
  {
   "cell_type": "code",
   "execution_count": 251,
   "id": "4c8df4af",
   "metadata": {},
   "outputs": [
    {
     "name": "stdout",
     "output_type": "stream",
     "text": [
      "(93636, 11967)\n",
      "[[0. 0. 0. ... 0. 0. 0.]]\n",
      "11967\n",
      "[('class', 1858), ('wilde', 11742), ('derring', 2802), ('chilling', 1764), ('affecting', 313), ('meanspirited', 6557), ('personal', 7662), ('low', 6296), ('involved', 5602), ('worth', 11868)]\n",
      "5224\n"
     ]
    }
   ],
   "source": [
    "# check the content of a document vector\n",
    "print(X_train_vec.shape)\n",
    "print(X_train_vec[0].toarray())\n",
    "\n",
    "# check the size of the constructed vocabulary\n",
    "print(len(unigram_tfidf_vectorizer.vocabulary_))\n",
    "\n",
    "# print out the first 10 items in the vocabulary\n",
    "print(list(unigram_tfidf_vectorizer.vocabulary_.items())[:10])\n",
    "\n",
    "# check word index in vocabulary\n",
    "print(unigram_tfidf_vectorizer.vocabulary_.get('imaginative'))"
   ]
  },
  {
   "cell_type": "code",
   "execution_count": 252,
   "id": "8bef15e7",
   "metadata": {},
   "outputs": [],
   "source": [
    "#transforming the test data\n",
    "X_test_vec = unigram_tfidf_vectorizer.transform(X_test)"
   ]
  },
  {
   "cell_type": "code",
   "execution_count": 253,
   "id": "afa31cf8",
   "metadata": {},
   "outputs": [
    {
     "name": "stdout",
     "output_type": "stream",
     "text": [
      "(62424, 11967)\n"
     ]
    }
   ],
   "source": [
    "# print out #examples and #features in the test set\n",
    "print(X_test_vec.shape)"
   ]
  },
  {
   "cell_type": "code",
   "execution_count": 254,
   "id": "f6c3acfc",
   "metadata": {},
   "outputs": [],
   "source": [
    "# import the LinearSVC module\n",
    "from sklearn.svm import LinearSVC\n",
    "\n",
    "# initialize the LinearSVC model\n",
    "svm1 = LinearSVC(C=1)\n",
    "\n",
    "# use the training data to train the model\n",
    "svm_model_1 = svm1.fit(X_train_vec,y_train)"
   ]
  },
  {
   "cell_type": "code",
   "execution_count": 255,
   "id": "2b2b4e82",
   "metadata": {},
   "outputs": [
    {
     "name": "stdout",
     "output_type": "stream",
     "text": [
      "Very negative words\n",
      "(2.0987486765277623, 'stinks')\n",
      "(2.1727352677511806, 'worthless')\n",
      "(2.1798391121166207, 'worst')\n",
      "(2.1800503432633844, 'distasteful')\n",
      "(2.2009526617484823, 'unwatchable')\n",
      "(2.2123807540258205, 'unbearable')\n",
      "(2.2381371549861666, 'meaningless')\n",
      "(2.4621467389342637, 'stinker')\n",
      "(2.544275438894272, 'disappointment')\n",
      "(2.563483044797518, 'disgusting')\n",
      "\n"
     ]
    }
   ],
   "source": [
    "#creating a sorted list of the prediction % and the name of the predictor\n",
    "svm_feature_ranks_vneg = sorted(zip(svm_model_1.coef_[0],\n",
    "                                    unigram_tfidf_vectorizer.get_feature_names_out()))\n",
    "\n",
    "## get the 10 features that are best indicators of very negative sentiment\n",
    "very_negative_10 = svm_feature_ranks_vneg[-10:]\n",
    "print(\"Very negative words\")\n",
    "for i in range(0, len(very_negative_10)):\n",
    "    print(very_negative_10[i])\n",
    "print()"
   ]
  },
  {
   "cell_type": "code",
   "execution_count": 256,
   "id": "e6a47860",
   "metadata": {},
   "outputs": [
    {
     "name": "stdout",
     "output_type": "stream",
     "text": [
      "Very positive words\n",
      "(2.2486583109949567, 'phenomenal')\n",
      "(2.2841704847963906, 'masterpiece')\n",
      "(2.3433874811387083, 'magnificent')\n",
      "(2.352451497767898, 'stunning')\n",
      "(2.3544754249629247, 'miraculous')\n",
      "(2.3737036811267394, 'masterfully')\n",
      "(2.376400287683998, 'glorious')\n",
      "(2.381288829157662, 'masterful')\n",
      "(2.390827555909225, 'zings')\n",
      "(2.4682237186376157, 'perfection')\n",
      "\n"
     ]
    }
   ],
   "source": [
    "#creating a sorted list of the prediction % and the name of the predictor\n",
    "svm_feature_ranks_vpos = sorted(zip(svm_model_1.coef_[4],\n",
    "                                    unigram_tfidf_vectorizer.get_feature_names_out()))\n",
    "\n",
    "## get the 10 features that are best indicators of very negative sentiment\n",
    "very_positive_10 = svm_feature_ranks_vpos[-10:]\n",
    "print(\"Very positive words\")\n",
    "for i in range(0, len(very_positive_10)):\n",
    "    print(very_positive_10[i])\n",
    "print()"
   ]
  },
  {
   "cell_type": "code",
   "execution_count": 257,
   "id": "36f21da5",
   "metadata": {},
   "outputs": [],
   "source": [
    "from sklearn.naive_bayes import MultinomialNB\n",
    "\n",
    "#selecting the multinomial naive bayes classifier\n",
    "mnb1 = MultinomialNB()\n",
    "\n",
    "#creating the model\n",
    "mnb_model_1=mnb1.fit(X_train_vec,y_train)"
   ]
  },
  {
   "cell_type": "code",
   "execution_count": 258,
   "id": "60f6ab2b",
   "metadata": {},
   "outputs": [
    {
     "name": "stdout",
     "output_type": "stream",
     "text": [
      "Very negative words\n",
      "(-6.645979011120781, 'time')\n",
      "(-6.62020923362483, 'does')\n",
      "(-6.60369986228579, 'minutes')\n",
      "(-6.517311233308192, 'dull')\n",
      "(-6.355845020937053, 'just')\n",
      "(-6.131355008437069, 'worst')\n",
      "(-6.029810232070883, 'like')\n",
      "(-5.792621365210278, 'film')\n",
      "(-5.411480448479903, 'bad')\n",
      "(-5.186697744581525, 'movie')\n",
      "\n"
     ]
    }
   ],
   "source": [
    "#creating a sorted list of the prediction % and the name of the predictor\n",
    "mnb_feature_ranks_vneg = sorted(zip(mnb_model_1.feature_log_prob_[0]\n",
    "                                    , unigram_tfidf_vectorizer.get_feature_names_out()))\n",
    "\n",
    "## get the 10 features that are best indicators of very negative sentiment\n",
    "mnb_very_negative_10 = mnb_feature_ranks_vneg[-10:]\n",
    "print(\"Very negative words\")\n",
    "for i in range(0, len(mnb_very_negative_10)):\n",
    "    print(mnb_very_negative_10[i])\n",
    "print()"
   ]
  },
  {
   "cell_type": "code",
   "execution_count": 259,
   "id": "5df1751a",
   "metadata": {},
   "outputs": [
    {
     "name": "stdout",
     "output_type": "stream",
     "text": [
      "Very positive words\n",
      "(-6.296148399433598, 'fun')\n",
      "(-6.1660714027789965, 'entertaining')\n",
      "(-6.123845477949642, 'performance')\n",
      "(-6.038969240779541, 'performances')\n",
      "(-5.946467095414271, 'great')\n",
      "(-5.809197749822911, 'good')\n",
      "(-5.652790662920261, 'funny')\n",
      "(-5.485414582781967, 'movie')\n",
      "(-5.444930328141257, 'best')\n",
      "(-5.060214745410679, 'film')\n",
      "\n"
     ]
    }
   ],
   "source": [
    "#creating a sorted list of the prediction % and the name of the predictor\n",
    "mnb_feature_ranks_vpos = sorted(zip(mnb_model_1.feature_log_prob_[4]\n",
    "                                    , unigram_tfidf_vectorizer.get_feature_names_out()))\n",
    "\n",
    "## get the 10 features that are best indicators of very negative sentiment\n",
    "mnb_very_positive_10 = mnb_feature_ranks_vpos[-10:]\n",
    "print(\"Very positive words\")\n",
    "\n",
    "for i in range(0, len(mnb_very_positive_10)):\n",
    "    print(mnb_very_positive_10[i])\n",
    "print()"
   ]
  },
  {
   "cell_type": "code",
   "execution_count": 260,
   "id": "639d73aa",
   "metadata": {},
   "outputs": [
    {
     "name": "stdout",
     "output_type": "stream",
     "text": [
      "[{0.18433911276839005: 'fun'}, {0.2099467783547813: 'entertaining'}, {0.21900180833516075: 'performance'}, {0.2384014993021937: 'performances'}, {0.26150629857818486: 'great'}, {0.2999835725971175: 'good'}, {0.3507714255402517: 'funny'}, {0.4146815524542517: 'movie'}, {0.43181408500521723: 'best'}, {0.6344196979429668: 'film'}]\n"
     ]
    }
   ],
   "source": [
    "vp = []\n",
    "for num , token in mnb_very_positive_10:\n",
    "    x=(np.exp(1)**num)*100\n",
    "    vp.append({x:token})\n",
    "    \n",
    "print(vp)"
   ]
  },
  {
   "cell_type": "code",
   "execution_count": 261,
   "id": "3d53f23e",
   "metadata": {},
   "outputs": [
    {
     "data": {
      "text/plain": [
       "0.6254325259515571"
      ]
     },
     "execution_count": 261,
     "metadata": {},
     "output_type": "execute_result"
    }
   ],
   "source": [
    "# test the classifier on the test data set, print accuracy score\n",
    "\n",
    "svm_model_1.score(X_test_vec,y_test)"
   ]
  },
  {
   "cell_type": "code",
   "execution_count": 262,
   "id": "ed70fc3a",
   "metadata": {},
   "outputs": [
    {
     "name": "stdout",
     "output_type": "stream",
     "text": [
      "[[  795  1387   624   117     8]\n",
      " [  589  4336  5245   629    25]\n",
      " [  163  2299 26557  2684   161]\n",
      " [   24   408  5604  6220   812]\n",
      " [    2    40   551  2010  1134]]\n",
      "\n",
      "              precision    recall  f1-score   support\n",
      "\n",
      "           0       0.51      0.27      0.35      2931\n",
      "           1       0.51      0.40      0.45     10824\n",
      "           2       0.69      0.83      0.75     31864\n",
      "           3       0.53      0.48      0.50     13068\n",
      "           4       0.53      0.30      0.39      3737\n",
      "\n",
      "    accuracy                           0.63     62424\n",
      "   macro avg       0.55      0.46      0.49     62424\n",
      "weighted avg       0.61      0.63      0.61     62424\n",
      "\n"
     ]
    }
   ],
   "source": [
    "# print confusion matrix and classification report\n",
    "\n",
    "from sklearn.metrics import confusion_matrix\n",
    "y_pred = svm_model_1.predict(X_test_vec)\n",
    "cm=confusion_matrix(y_test, y_pred, labels=[0,1,2,3,4])\n",
    "print(cm)\n",
    "print()\n",
    "\n",
    "from sklearn.metrics import classification_report\n",
    "target_names = ['0','1','2','3','4']\n",
    "print(classification_report(y_test, y_pred, target_names=target_names))"
   ]
  },
  {
   "cell_type": "code",
   "execution_count": 263,
   "id": "267d5670",
   "metadata": {},
   "outputs": [
    {
     "data": {
      "text/plain": [
       "0.5836056644880174"
      ]
     },
     "execution_count": 263,
     "metadata": {},
     "output_type": "execute_result"
    }
   ],
   "source": [
    "# test the classifier on the test data set, print accuracy score\n",
    "\n",
    "mnb_model_1.score(X_test_vec,y_test)"
   ]
  },
  {
   "cell_type": "code",
   "execution_count": 264,
   "id": "5bea6078",
   "metadata": {},
   "outputs": [
    {
     "name": "stdout",
     "output_type": "stream",
     "text": [
      "[[  795  1387   624   117     8]\n",
      " [  589  4336  5245   629    25]\n",
      " [  163  2299 26557  2684   161]\n",
      " [   24   408  5604  6220   812]\n",
      " [    2    40   551  2010  1134]]\n",
      "\n",
      "              precision    recall  f1-score   support\n",
      "\n",
      "           0       0.57      0.04      0.07      2931\n",
      "           1       0.51      0.24      0.33     10824\n",
      "           2       0.60      0.90      0.72     31864\n",
      "           3       0.52      0.37      0.43     13068\n",
      "           4       0.62      0.05      0.09      3737\n",
      "\n",
      "    accuracy                           0.58     62424\n",
      "   macro avg       0.57      0.32      0.33     62424\n",
      "weighted avg       0.57      0.58      0.53     62424\n",
      "\n"
     ]
    }
   ],
   "source": [
    "# print confusion matrix and classification report\n",
    "\n",
    "from sklearn.metrics import confusion_matrix\n",
    "mnb_y_pred = mnb_model_1.predict(X_test_vec)\n",
    "mnb_cm=confusion_matrix(y_test, y_pred, labels=[0,1,2,3,4])\n",
    "print(mnb_cm)\n",
    "print()\n",
    "\n",
    "from sklearn.metrics import classification_report\n",
    "target_names = ['0','1','2','3','4']\n",
    "print(classification_report(y_test, mnb_y_pred, target_names=target_names))"
   ]
  },
  {
   "cell_type": "code",
   "execution_count": 265,
   "id": "43e9f6d7",
   "metadata": {},
   "outputs": [],
   "source": [
    "# lists of dicts of scores\n",
    "unimetics=         {'Very Negative\\nuni SVM precision':0.51,'Very Negative\\nuni MNB precision':0.57\n",
    "                   ,'Very Negative\\nuni SVM recall':0.27,'Very Negative\\nuni MNB recall':0.04\n",
    "                   ,'Very Negative\\nuni SVM f1-score':0.35,'Very Negative\\nuni MNB f1-score':0.07\n",
    "                   ,'Somewhat Negative\\nuni SVM precision':0.51,'Somewhat Negative\\nuni MNB precision':0.51\n",
    "                   ,'Somewhat Negative\\nuni SVM recall':0.40,'Somewhat Negative\\nuni MNB recall':0.24\n",
    "                   ,'Somewhat Negative\\nuni SVM f1-score':0.45,'Somewhat Negative\\nuni MNB f1-score':0.33\n",
    "                   ,'Neutral\\nuni SVM precision':0.69,'Neutral\\nuni MNB precision':0.60\n",
    "                   ,'Neutral\\nuni SVM recall':0.83,'Neutral\\nuni MNB recall':0.90\n",
    "                   ,'Neutral\\nuni SVM f1-score':0.75,'Neutral\\nuni MNB f1-score':0.72\n",
    "                   ,'Somewhat Positive\\nuni SVM precision':0.53,'Somewhat Positive\\nuni MNB precision':0.52\n",
    "                   ,'Somewhat Positive\\nuni SVM recall':0.48,'Somewhat Positive\\nuni MNB recall':0.37\n",
    "                   ,'Somewhat Positive\\nuni SVM f1-score':0.50,'Somewhat Positive\\nuni MNB f1-score':0.43\n",
    "                   ,'Very Positive\\nuni SVM precision':0.53,'Very Positive\\nuni MNB precision':0.62\n",
    "                   ,'Very Positive\\nuni SVM recall':0.30,'Very Positive\\nuni MNB recall':0.05\n",
    "                   ,'Very Positive\\nuni SVM f1-score':0.39,'Very Positive\\nuni MNB f1-score':0.09}"
   ]
  },
  {
   "cell_type": "code",
   "execution_count": 317,
   "id": "339786d5",
   "metadata": {},
   "outputs": [
    {
     "data": {
      "image/png": "[encoded data removed]",
      "text/plain": [
       "<Figure size 4320x720 with 1 Axes>"
      ]
     },
     "metadata": {
      "needs_background": "light"
     },
     "output_type": "display_data"
    }
   ],
   "source": [
    "import matplotlib.pyplot as plt\n",
    "\n",
    "# function to add value labels\n",
    "def addlabels(y):\n",
    "    for i in range(len(y)):\n",
    "        plt.text(i,y[i],y[i],fontweight = 'bold')\n",
    "\n",
    "\n",
    "values = list(unimetics.values())\n",
    "names = list(unimetics.keys())\n",
    "colors = ['red','red','red','red','red','red',\n",
    "          'darkorange','darkorange','darkorange','darkorange','darkorange','darkorange',\n",
    "          'blue','blue','blue','blue','blue','blue',\n",
    "          'yellow','yellow','yellow','yellow','yellow','yellow',\n",
    "          'green','green','green','green','green','green']\n",
    "plt.figure(figsize=(60, 10))\n",
    "\n",
    "plt.subplot(121)\n",
    "plt.bar(names\n",
    "        ,values\n",
    "        ,color= colors\n",
    "       )\n",
    "\n",
    "plt.xticks(rotation= 45)\n",
    "plt.ylabel('Percent')\n",
    "plt.xlabel('Precision, Recall, F1-score')\n",
    "plt.title('Unigram SVM vs Unigram MNB')\n",
    "\n",
    "addlabels(values)\n",
    "plt.show()"
   ]
  },
  {
   "cell_type": "markdown",
   "id": "64051dbe",
   "metadata": {},
   "source": [
    "# unigram and bigram SVM vs MNB"
   ]
  },
  {
   "cell_type": "code",
   "execution_count": 267,
   "id": "8812da58",
   "metadata": {},
   "outputs": [],
   "source": [
    "gram12_tfidf_vectorizer = TfidfVectorizer(encoding='latin-1', ngram_range=(1,2),use_idf=True, min_df=5, stop_words='english')"
   ]
  },
  {
   "cell_type": "code",
   "execution_count": 268,
   "id": "ecb8b2e9",
   "metadata": {},
   "outputs": [],
   "source": [
    "# fitting and transforming the training data using the count vectorizer\n",
    "X_train_vec_bi = gram12_tfidf_vectorizer.fit_transform(X_train)"
   ]
  },
  {
   "cell_type": "code",
   "execution_count": 269,
   "id": "67e8a472",
   "metadata": {},
   "outputs": [
    {
     "name": "stdout",
     "output_type": "stream",
     "text": [
      "(93636, 34579)\n",
      "[[0. 0. 0. ... 0. 0. 0.]]\n",
      "34579\n",
      "[('class', 5020), ('wilde', 33787), ('derring', 7552), ('chilling', 4755), ('affecting', 825), ('meanspirited', 19199), ('personal', 22506), ('low', 18281), ('involved', 15905), ('worth', 34261)]\n",
      "5224\n"
     ]
    }
   ],
   "source": [
    "# check the content of a document vector\n",
    "print(X_train_vec_bi.shape)\n",
    "print(X_train_vec_bi[0].toarray())\n",
    "\n",
    "# check the size of the constructed vocabulary\n",
    "print(len(gram12_tfidf_vectorizer.vocabulary_))\n",
    "\n",
    "# print out the first 10 items in the vocabulary\n",
    "print(list(gram12_tfidf_vectorizer.vocabulary_.items())[:10])\n",
    "\n",
    "# check word index in vocabulary\n",
    "print(unigram_tfidf_vectorizer.vocabulary_.get('imaginative'))"
   ]
  },
  {
   "cell_type": "code",
   "execution_count": 270,
   "id": "827a1dd9",
   "metadata": {},
   "outputs": [],
   "source": [
    "#transforming the test data\n",
    "X_test_vec_bi = gram12_tfidf_vectorizer.transform(X_test)"
   ]
  },
  {
   "cell_type": "code",
   "execution_count": 271,
   "id": "aa68b3bc",
   "metadata": {},
   "outputs": [
    {
     "name": "stdout",
     "output_type": "stream",
     "text": [
      "(62424, 34579)\n"
     ]
    }
   ],
   "source": [
    "# print out #examples and #features in the test set\n",
    "print(X_test_vec_bi.shape)"
   ]
  },
  {
   "cell_type": "code",
   "execution_count": 272,
   "id": "fa882364",
   "metadata": {},
   "outputs": [],
   "source": [
    "# import the LinearSVC module\n",
    "from sklearn.svm import LinearSVC\n",
    "\n",
    "# initialize the LinearSVC model\n",
    "svm2 = LinearSVC(C=1)\n",
    "\n",
    "# use the training data to train the model\n",
    "svm_model_2 = svm2.fit(X_train_vec_bi,y_train)"
   ]
  },
  {
   "cell_type": "code",
   "execution_count": 273,
   "id": "b834f038",
   "metadata": {},
   "outputs": [
    {
     "name": "stdout",
     "output_type": "stream",
     "text": [
      "Very negative words\n",
      "(2.08876175332494, 'awful')\n",
      "(2.1120434357159588, 'unwatchable')\n",
      "(2.1290855179644756, 'unbearable')\n",
      "(2.1416340420994997, 'entirely witless')\n",
      "(2.1674522560992577, 'distasteful')\n",
      "(2.274550897684777, 'disgusting')\n",
      "(2.310962603060975, 'garbage')\n",
      "(2.326885350848144, 'charm laughs')\n",
      "(2.4427297160242487, 'waste')\n",
      "(2.682396375773295, 'disappointment')\n",
      "\n"
     ]
    }
   ],
   "source": [
    "#creating a sorted list of the prediction % and the name of the predictor\n",
    "svm_bi_feature_ranks_vneg = sorted(zip(svm_model_2.coef_[0],\n",
    "                                       gram12_tfidf_vectorizer.get_feature_names_out()))\n",
    "\n",
    "## get the 10 features that are best indicators of very negative sentiment\n",
    "bi_very_negative_10 = svm_bi_feature_ranks_vneg[-10:]\n",
    "print(\"Very negative words\")\n",
    "for i in range(0, len(bi_very_negative_10)):\n",
    "    print(bi_very_negative_10[i])\n",
    "print()"
   ]
  },
  {
   "cell_type": "code",
   "execution_count": 274,
   "id": "91c56707",
   "metadata": {},
   "outputs": [],
   "source": [
    "from sklearn.naive_bayes import MultinomialNB\n",
    "\n",
    "#selecting the multinomial naive bayes classifier\n",
    "mnb2 = MultinomialNB()\n",
    "\n",
    "#creating the model\n",
    "mnb_model_2=mnb2.fit(X_train_vec_bi,y_train)"
   ]
  },
  {
   "cell_type": "code",
   "execution_count": 275,
   "id": "17dddc78",
   "metadata": {},
   "outputs": [
    {
     "name": "stdout",
     "output_type": "stream",
     "text": [
      "Very negative words\n",
      "(-8.748854374970367, 'worst movie')\n",
      "(-8.74749785717736, 'tired')\n",
      "(-8.745323985686078, 'come')\n",
      "(-8.744610145043316, 'laughs')\n",
      "(-8.743442831796804, 'man')\n",
      "(-8.741137294596538, 'meandering')\n",
      "(-8.740432557914145, 'stinker')\n",
      "(-8.736430218656373, 'badly')\n",
      "(-8.733719787539355, 'utterly')\n",
      "(-8.729700963765348, 'soap')\n",
      "(-8.726484102821093, 'amateurish')\n",
      "(-8.72323992808648, 'lacking')\n",
      "(-8.715547208073842, 'vulgar')\n",
      "(-8.713214650044575, 'just plain')\n",
      "(-8.713128806549545, 'films')\n",
      "(-8.711397031026337, 'poor')\n",
      "(-8.70841037068509, 'soap opera')\n",
      "(-8.699193183119906, 'unfocused')\n",
      "(-8.694258745589893, 'drama')\n",
      "(-8.692713686529729, 'head')\n",
      "(-8.69189658224195, 'deadly')\n",
      "(-8.690046653687904, 'depressing')\n",
      "(-8.689129759332708, 'horribly')\n",
      "(-8.687699202134166, 'barely')\n",
      "(-8.683344626817004, 'funny')\n",
      "(-8.680344497012648, 'opera')\n",
      "(-8.68014780987122, 'kind')\n",
      "(-8.672028047268132, 'mindless')\n",
      "(-8.65610260518125, 'impossible')\n",
      "(-8.653668266822319, 'trash')\n",
      "(-8.651893071466754, 'work')\n",
      "(-8.651090498959224, 'better')\n",
      "(-8.646163487694487, 'slow')\n",
      "(-8.64049856122352, 'irritating')\n",
      "(-8.638925392201243, 'cinematic')\n",
      "(-8.63514819613283, 'video')\n",
      "(-8.63321202137839, 'far')\n",
      "(-8.626623857702246, 'lack')\n",
      "(-8.626126230558157, 'picture')\n",
      "(-8.626051076002739, 'comes')\n",
      "(-8.618324600909405, 'imagine')\n",
      "(-8.618215257819557, 'frustrating')\n",
      "(-8.615601510219705, 'people')\n",
      "(-8.61208896147502, 'tedious')\n",
      "(-8.603316932008331, 'disgusting')\n",
      "(-8.60276434676136, 'incoherent')\n",
      "(-8.602048035294406, 'inept')\n",
      "(-8.592939819784384, 'sit')\n",
      "(-8.589970304825465, 'offensive')\n",
      "(-8.58659289569037, 'self')\n",
      "(-8.586091108609928, 'nearly')\n",
      "(-8.578965463846561, 'silly')\n",
      "(-8.577672680339646, 'idea')\n",
      "(-8.57263804816402, 'humor')\n",
      "(-8.571044708483099, 'dreary')\n",
      "(-8.568685445946137, 'lousy')\n",
      "(-8.562568585166105, 'virtually')\n",
      "(-8.560792363336532, 'walked')\n",
      "(-8.55777950349616, 'junk')\n",
      "(-8.555214319895862, 'life')\n",
      "(-8.548507751124243, 'obvious')\n",
      "(-8.544058838468654, 'garbage')\n",
      "(-8.541639748816863, 'sequel')\n",
      "(-8.521059288246422, 'annoying')\n",
      "(-8.51342127171202, 'generic')\n",
      "(-8.512946382549282, 'point')\n",
      "(-8.508080510476987, 'direction')\n",
      "(-8.50068059325177, 'ca')\n",
      "(-8.498536602563563, 'bland')\n",
      "(-8.491151006036457, 'movies')\n",
      "(-8.486170552330305, 'end')\n",
      "(-8.48266879535177, 'theater')\n",
      "(-8.482515271917954, 'want')\n",
      "(-8.473837894894018, 'character')\n",
      "(-8.469722222039398, 'unpleasant')\n",
      "(-8.467199589950017, 'director')\n",
      "(-8.466867200613631, 'simply')\n",
      "(-8.46527014453838, 'poorly')\n",
      "(-8.461479165566676, 'feel')\n",
      "(-8.46094093213947, 'devoid')\n",
      "(-8.457030406048439, 'minute')\n",
      "(-8.454321821873172, 'loud')\n",
      "(-8.444908446080278, 'forgettable')\n",
      "(-8.442703935647396, 'interesting')\n",
      "(-8.441775066277177, 'money')\n",
      "(-8.438193817391802, 'thing')\n",
      "(-8.437416897437934, 'real')\n",
      "(-8.432469255200136, 'pretentious')\n",
      "(-8.431871106534023, 'predictable')\n",
      "(-8.428974525517079, 'reason')\n",
      "(-8.42798527089704, 'ludicrous')\n",
      "(-8.423389934615415, 'hate')\n",
      "(-8.418516433625653, 'half')\n",
      "(-8.413521600180786, 'painful')\n",
      "(-8.397008037985369, 'completely')\n",
      "(-8.395103069331178, 'hollywood')\n",
      "(-8.379908538008761, 'flat')\n",
      "(-8.37977409910577, 'hard')\n",
      "(-8.374752718180014, 'care')\n",
      "(-8.370435708885163, 'ultimately')\n",
      "(-8.368824155841747, 've')\n",
      "(-8.358667050628117, 'bore')\n",
      "(-8.358511901179675, 'll')\n",
      "(-8.34218010532931, 'pathetic')\n",
      "(-8.33779963565576, 'make')\n",
      "(-8.334976726723497, 'audience')\n",
      "(-8.333392485236118, 'sense')\n",
      "(-8.332022211821304, 'feels')\n",
      "(-8.324845592349195, 'watching')\n",
      "(-8.318430765884386, 'crap')\n",
      "(-8.31564859225847, 'goes')\n",
      "(-8.308212638272298, 'original')\n",
      "(-8.303644794776634, 'hours')\n",
      "(-8.278737907054209, 'watch')\n",
      "(-8.277364645488325, 'sloppy')\n",
      "(-8.267410790787787, 'pointless')\n",
      "(-8.2588951634006, 'lrb')\n",
      "(-8.251787806013551, 'year')\n",
      "(-8.242492221195905, 'contrived')\n",
      "(-8.228864816934355, 'plain')\n",
      "(-8.227319633714554, 'makes')\n",
      "(-8.219193324427376, 'bad movie')\n",
      "(-8.201984690830784, 'horrible')\n",
      "(-8.1748229988086, 'cheap')\n",
      "(-8.17191721794059, 'worse')\n",
      "(-8.168066609613637, 'painfully')\n",
      "(-8.166568701022186, 'rrb')\n",
      "(-8.148466682790271, 'failure')\n",
      "(-8.123171134736594, 'old')\n",
      "(-8.105239112937124, 'low')\n",
      "(-8.059962711255775, 'terrible')\n",
      "(-8.049250014224512, 'dumb')\n",
      "(-8.042684247267506, 'fails')\n",
      "(-8.042110282575088, 'script')\n",
      "(-8.020828426945206, 'acting')\n",
      "(-8.015830569878606, 'little')\n",
      "(-8.01493501883124, 'waste')\n",
      "(-7.990071821228176, 'way')\n",
      "(-7.966496806987365, 'disaster')\n",
      "(-7.960316822956825, 'unfunny')\n",
      "(-7.946964130193941, 'dialogue')\n",
      "(-7.9443537227635534, 'action')\n",
      "(-7.9112088413929715, 'plot')\n",
      "(-7.897673208324939, 'good')\n",
      "(-7.854594287919111, 'awful')\n",
      "(-7.811536846943845, 'really')\n",
      "(-7.800781079791728, 'ugly')\n",
      "(-7.745205175730867, 'characters')\n",
      "(-7.718857560516154, 'minutes')\n",
      "(-7.718673368304859, 'time')\n",
      "(-7.7167523385243, 'boring')\n",
      "(-7.70347025925141, 'does')\n",
      "(-7.697329898899335, 'comedy')\n",
      "(-7.6916048553550915, 'long')\n",
      "(-7.670900924532225, 'story')\n",
      "(-7.654743793752857, 'stupid')\n",
      "(-7.624189077492526, 'mess')\n",
      "(-7.498580938421712, 'dull')\n",
      "(-7.393303232254995, 'just')\n",
      "(-7.209695440732919, 'worst')\n",
      "(-7.108870852486083, 'like')\n",
      "(-6.852838351434956, 'film')\n",
      "(-6.464253994333886, 'bad')\n",
      "(-6.241813501470778, 'movie')\n",
      "\n"
     ]
    }
   ],
   "source": [
    "#creating a sorted list of the prediction % and the name of the predictor\n",
    "mnb_bi_feature_ranks_vneg = sorted(zip(mnb_model_2.feature_log_prob_[0]\n",
    "                                       , gram12_tfidf_vectorizer.get_feature_names_out()))\n",
    "\n",
    "## get the 10 features that are best indicators of very negative sentiment\n",
    "mnb_bi_very_negative_10 = mnb_bi_feature_ranks_vneg[-164:]\n",
    "print(\"Very negative words\")\n",
    "for i in range(0, len(mnb_bi_very_negative_10)):\n",
    "    print(mnb_bi_very_negative_10[i])\n",
    "print()"
   ]
  },
  {
   "cell_type": "code",
   "execution_count": 276,
   "id": "9893cdfb",
   "metadata": {},
   "outputs": [
    {
     "data": {
      "text/plain": [
       "0.6301262334999359"
      ]
     },
     "execution_count": 276,
     "metadata": {},
     "output_type": "execute_result"
    }
   ],
   "source": [
    "# test the classifier on the test data set, print accuracy score\n",
    "\n",
    "svm_model_2.score(X_test_vec_bi,y_test)"
   ]
  },
  {
   "cell_type": "code",
   "execution_count": 277,
   "id": "ddc77fea",
   "metadata": {},
   "outputs": [
    {
     "name": "stdout",
     "output_type": "stream",
     "text": [
      "              precision    recall  f1-score   support\n",
      "\n",
      "           0       0.51      0.27      0.35      2931\n",
      "           1       0.51      0.40      0.45     10824\n",
      "           2       0.69      0.83      0.75     31864\n",
      "           3       0.53      0.48      0.50     13068\n",
      "           4       0.53      0.30      0.39      3737\n",
      "\n",
      "    accuracy                           0.63     62424\n",
      "   macro avg       0.55      0.46      0.49     62424\n",
      "weighted avg       0.61      0.63      0.61     62424\n",
      "\n"
     ]
    }
   ],
   "source": [
    "print(classification_report(y_test, y_pred, target_names=target_names))"
   ]
  },
  {
   "cell_type": "code",
   "execution_count": 278,
   "id": "4efbd1eb",
   "metadata": {},
   "outputs": [
    {
     "name": "stdout",
     "output_type": "stream",
     "text": [
      "[[  916  1373   565    69     8]\n",
      " [  696  4666  4947   493    22]\n",
      " [  217  2507 26156  2827   157]\n",
      " [   25   364  5343  6334  1002]\n",
      " [    5    32   475  1962  1263]]\n",
      "\n",
      "              precision    recall  f1-score   support\n",
      "\n",
      "           0       0.49      0.31      0.38      2931\n",
      "           1       0.52      0.43      0.47     10824\n",
      "           2       0.70      0.82      0.75     31864\n",
      "           3       0.54      0.48      0.51     13068\n",
      "           4       0.52      0.34      0.41      3737\n",
      "\n",
      "    accuracy                           0.63     62424\n",
      "   macro avg       0.55      0.48      0.51     62424\n",
      "weighted avg       0.61      0.63      0.62     62424\n",
      "\n"
     ]
    }
   ],
   "source": [
    "# print confusion matrix and classification report\n",
    "\n",
    "from sklearn.metrics import confusion_matrix\n",
    "y_pred_svm_bi = svm_model_2.predict(X_test_vec_bi)\n",
    "cm_svm_bi=confusion_matrix(y_test, y_pred_svm_bi, labels=[0,1,2,3,4])\n",
    "print(cm_svm_bi)\n",
    "print()\n",
    "\n",
    "from sklearn.metrics import classification_report\n",
    "target_names = ['0','1','2','3','4']\n",
    "print(classification_report(y_test, y_pred_svm_bi, target_names=target_names))"
   ]
  },
  {
   "cell_type": "code",
   "execution_count": 279,
   "id": "936642ea",
   "metadata": {},
   "outputs": [
    {
     "data": {
      "text/plain": [
       "0.5948993976675637"
      ]
     },
     "execution_count": 279,
     "metadata": {},
     "output_type": "execute_result"
    }
   ],
   "source": [
    "# test the classifier on the test data set, print accuracy score\n",
    "\n",
    "mnb_model_2.score(X_test_vec_bi,y_test)"
   ]
  },
  {
   "cell_type": "code",
   "execution_count": 280,
   "id": "45ae1e02",
   "metadata": {},
   "outputs": [
    {
     "name": "stdout",
     "output_type": "stream",
     "text": [
      "              precision    recall  f1-score   support\n",
      "\n",
      "           0       0.57      0.04      0.07      2931\n",
      "           1       0.51      0.24      0.33     10824\n",
      "           2       0.60      0.90      0.72     31864\n",
      "           3       0.52      0.37      0.43     13068\n",
      "           4       0.62      0.05      0.09      3737\n",
      "\n",
      "    accuracy                           0.58     62424\n",
      "   macro avg       0.57      0.32      0.33     62424\n",
      "weighted avg       0.57      0.58      0.53     62424\n",
      "\n"
     ]
    }
   ],
   "source": [
    "print(classification_report(y_test, mnb_y_pred, target_names=target_names))"
   ]
  },
  {
   "cell_type": "code",
   "execution_count": 281,
   "id": "d2557207",
   "metadata": {
    "scrolled": true
   },
   "outputs": [
    {
     "name": "stdout",
     "output_type": "stream",
     "text": [
      "[[  795  1387   624   117     8]\n",
      " [  589  4336  5245   629    25]\n",
      " [  163  2299 26557  2684   161]\n",
      " [   24   408  5604  6220   812]\n",
      " [    2    40   551  2010  1134]]\n",
      "\n",
      "              precision    recall  f1-score   support\n",
      "\n",
      "           0       0.65      0.06      0.11      2931\n",
      "           1       0.53      0.26      0.35     10824\n",
      "           2       0.61      0.90      0.73     31864\n",
      "           3       0.54      0.39      0.45     13068\n",
      "           4       0.67      0.07      0.13      3737\n",
      "\n",
      "    accuracy                           0.59     62424\n",
      "   macro avg       0.60      0.34      0.36     62424\n",
      "weighted avg       0.59      0.59      0.54     62424\n",
      "\n"
     ]
    }
   ],
   "source": [
    "# print confusion matrix and classification report\n",
    "\n",
    "from sklearn.metrics import confusion_matrix\n",
    "mnb_bi_y_pred = mnb_model_2.predict(X_test_vec_bi)\n",
    "mnb_bi_cm=confusion_matrix(y_test, y_pred, labels=[0,1,2,3,4])\n",
    "print(mnb_bi_cm)\n",
    "print()\n",
    "\n",
    "from sklearn.metrics import classification_report\n",
    "target_names = ['0','1','2','3','4']\n",
    "print(classification_report(y_test, mnb_bi_y_pred, target_names=target_names))"
   ]
  },
  {
   "cell_type": "code",
   "execution_count": 282,
   "id": "92409ed3",
   "metadata": {},
   "outputs": [],
   "source": [
    "# lists of dicts of scores\n",
    "bimetics=           {'Very Negative\\nBi and uni MNB precision':0.65,'Very Negative\\nBi and uni SVM precision':0.49\n",
    "                   ,'Very Negative\\nBi and uni MNB recall':0.06,'Very Negative\\nBi and uni SVM recall':0.31\n",
    "                   ,'Very Negative\\nBi and uni MNB f1-score':0.11,'Very Negative\\nBi and uni SVM f1-score':0.38\n",
    "                   ,'Somewhat Negative\\nBi and uni MNB precision':0.53,'Somewhat Negative\\nBi and uni SVM precision':0.52\n",
    "                   ,'Somewhat Negative\\nBi and uni MNB recall':0.26,'Somewhat Negative\\nBi and uni SVM recall':0.43\n",
    "                   ,'Somewhat Negative\\nBi and uni MNB f1-score':0.35,'Somewhat Negative\\nBi and uni SVM f1-score':0.47\n",
    "                   ,'Neutral\\nBi and uni MNB precision':0.61,'Neutral\\nBi and uni SVM precision':0.70\n",
    "                   ,'Neutral\\nBi and uni MNB recall':0.90,'Neutral\\nBi and uni SVM recall':0.82\n",
    "                   ,'Neutral\\nBi and uni MNB f1-score':0.73,'Neutral\\nBi and uni SVM f1-score':0.75\n",
    "                   ,'Somewhat Positive\\nBi and uni MNB precision':0.54,'Somewhat Positive\\nBi and uni SVM precision':0.54\n",
    "                   ,'Somewhat Positive\\nBi and uni MNB recall':0.39,'Somewhat Positive\\nBi and uni SVM recall':0.48\n",
    "                   ,'Somewhat Positive\\nBi and uni MNB f1-score':0.45,'Somewhat Positive\\nBi and uni SVM f1-score':0.51\n",
    "                   ,'Very Positive\\nBi and uni MNB precision':0.67,'Very Positive\\nBi and uni SVM precision':0.52\n",
    "                   ,'Very Positive\\nBi and uni MNB recall':0.07,'Very Positive\\nBi and uni SVM recall':0.34\n",
    "                   ,'Very Positive\\nBi and uni MNB f1-score':0.13,'Very Positive\\nBi and uni SVM f1-score':0.41}"
   ]
  },
  {
   "cell_type": "code",
   "execution_count": 318,
   "id": "1cc438e5",
   "metadata": {},
   "outputs": [
    {
     "data": {
      "image/png": "[encoded data removed]",
      "text/plain": [
       "<Figure size 4320x720 with 1 Axes>"
      ]
     },
     "metadata": {
      "needs_background": "light"
     },
     "output_type": "display_data"
    }
   ],
   "source": [
    "import matplotlib.pyplot as plt\n",
    "\n",
    "# function to add value labels\n",
    "def addlabels(y):\n",
    "    for i in range(len(y)):\n",
    "        plt.text(i,y[i],y[i],fontweight = 'bold')\n",
    "\n",
    "\n",
    "values = list(bimetics.values())\n",
    "names = list(bimetics.keys())\n",
    "colors = ['red','red','red','red','red','red',\n",
    "          'darkorange','darkorange','darkorange','darkorange','darkorange','darkorange',\n",
    "          'blue','blue','blue','blue','blue','blue',\n",
    "          'yellow','yellow','yellow','yellow','yellow','yellow',\n",
    "          'green','green','green','green','green','green']\n",
    "plt.figure(figsize=(60, 10))\n",
    "\n",
    "plt.subplot(121)\n",
    "plt.bar(names\n",
    "        ,values\n",
    "        ,color= colors\n",
    "       )\n",
    "plt.xticks(rotation= 45)\n",
    "plt.ylabel('Percent')\n",
    "plt.xlabel('Precision, Recall, F1-score')\n",
    "plt.title('Bigram and Unigram SVM vs Bigram and Unigram MNB')\n",
    "addlabels(values)\n",
    "plt.show()"
   ]
  },
  {
   "cell_type": "markdown",
   "id": "9229c103",
   "metadata": {},
   "source": [
    "# Unigram Stemming SVM vs Bigram and unigram SVM"
   ]
  },
  {
   "cell_type": "code",
   "execution_count": 284,
   "id": "57fc9ade",
   "metadata": {},
   "outputs": [],
   "source": [
    "from sklearn.feature_extraction.text import CountVectorizer\n",
    "from nltk.stem.porter import PorterStemmer\n",
    "\n",
    "stemmer = PorterStemmer()\n",
    "analyzer = CountVectorizer().build_analyzer()\n",
    "\n",
    "def stemmed_words(doc):\n",
    "    return (stemmer.stem(w) for w in analyzer(doc))"
   ]
  },
  {
   "cell_type": "code",
   "execution_count": 285,
   "id": "aad7b4de",
   "metadata": {},
   "outputs": [],
   "source": [
    "from sklearn.feature_extraction.text import TfidfVectorizer\n",
    "#  unigram tfidf vectorizer, set minimum document frequency to 5\n",
    "unigram_tfidf_vectorizer_stem = TfidfVectorizer(encoding='latin-1', use_idf=True, min_df=5, stop_words='english',analyzer=stemmed_words)"
   ]
  },
  {
   "cell_type": "code",
   "execution_count": 286,
   "id": "0f510278",
   "metadata": {},
   "outputs": [
    {
     "name": "stdout",
     "output_type": "stream",
     "text": [
      "(93636, 8883)\n",
      "[[0. 0. 0. ... 0. 0. 0.]]\n",
      "8883\n",
      "[('almost', 314), ('in', 3885), ('class', 1447), ('with', 8741), ('that', 7839), ('of', 5372), ('wild', 8701), ('whose', 8689), ('der', 2062), ('do', 2249)]\n",
      "None\n"
     ]
    }
   ],
   "source": [
    "# fitting and transforming the training data using the count vectorizer\n",
    "X_train_vec_stem = unigram_tfidf_vectorizer_stem.fit_transform(X_train)\n",
    "\n",
    "# check the content of a document vector\n",
    "print(X_train_vec_stem.shape)\n",
    "print(X_train_vec_stem[0].toarray())\n",
    "\n",
    "# check the size of the constructed vocabulary\n",
    "print(len(unigram_tfidf_vectorizer_stem.vocabulary_))\n",
    "\n",
    "# print out the first 10 items in the vocabulary\n",
    "print(list(unigram_tfidf_vectorizer_stem.vocabulary_.items())[:10])\n",
    "\n",
    "# check word index in vocabulary\n",
    "print(unigram_tfidf_vectorizer_stem.vocabulary_.get('imaginative'))"
   ]
  },
  {
   "cell_type": "code",
   "execution_count": 287,
   "id": "3b192626",
   "metadata": {},
   "outputs": [
    {
     "name": "stdout",
     "output_type": "stream",
     "text": [
      "(62424, 8883)\n"
     ]
    }
   ],
   "source": [
    "#transforming the test data\n",
    "X_test_vec_stem = unigram_tfidf_vectorizer_stem.transform(X_test)\n",
    "\n",
    "# print out #examples and #features in the test set\n",
    "print(X_test_vec_stem.shape)"
   ]
  },
  {
   "cell_type": "code",
   "execution_count": 288,
   "id": "ba267c7f",
   "metadata": {},
   "outputs": [],
   "source": [
    "# import the LinearSVC module\n",
    "from sklearn.svm import LinearSVC\n",
    "\n",
    "# initialize the LinearSVC model\n",
    "svm_stem = LinearSVC(C=1)\n",
    "\n",
    "# use the training data to train the model\n",
    "svm_model_stem = svm_stem.fit(X_train_vec_stem,y_train)"
   ]
  },
  {
   "cell_type": "code",
   "execution_count": 289,
   "id": "40333906",
   "metadata": {},
   "outputs": [
    {
     "name": "stdout",
     "output_type": "stream",
     "text": [
      "stem: 0.6298539023452518\n",
      "uni: 0.6254325259515571\n",
      "bi: 0.6301262334999359\n"
     ]
    }
   ],
   "source": [
    "# test the classifier on the test data set, print accuracy score\n",
    "\n",
    "print('stem:',svm_model_stem.score(X_test_vec_stem,y_test))\n",
    "print('uni:',svm_model_1.score(X_test_vec,y_test))\n",
    "print('bi:',svm_model_2.score(X_test_vec_bi,y_test))"
   ]
  },
  {
   "cell_type": "code",
   "execution_count": 290,
   "id": "f5b8e21d",
   "metadata": {},
   "outputs": [
    {
     "name": "stdout",
     "output_type": "stream",
     "text": [
      "[[  734  1498   598    94     7]\n",
      " [  574  4458  5210   558    24]\n",
      " [  132  2218 26906  2470   138]\n",
      " [   22   448  5700  6137   761]\n",
      " [    3    66   531  2054  1083]]\n",
      "\n",
      "              precision    recall  f1-score   support\n",
      "\n",
      "           0       0.50      0.25      0.33      2931\n",
      "           1       0.51      0.41      0.46     10824\n",
      "           2       0.69      0.84      0.76     31864\n",
      "           3       0.54      0.47      0.50     13068\n",
      "           4       0.54      0.29      0.38      3737\n",
      "\n",
      "    accuracy                           0.63     62424\n",
      "   macro avg       0.56      0.45      0.49     62424\n",
      "weighted avg       0.61      0.63      0.61     62424\n",
      "\n"
     ]
    }
   ],
   "source": [
    "# print confusion matrix and classification report\n",
    "\n",
    "from sklearn.metrics import confusion_matrix\n",
    "y_pred_stem = svm_model_stem.predict(X_test_vec_stem)\n",
    "cm_stem=confusion_matrix(y_test, y_pred_stem, labels=[0,1,2,3,4])\n",
    "print(cm_stem)\n",
    "print()\n",
    "\n",
    "from sklearn.metrics import classification_report\n",
    "target_names = ['0','1','2','3','4']\n",
    "print(classification_report(y_test, y_pred_stem, target_names=target_names))"
   ]
  },
  {
   "cell_type": "code",
   "execution_count": 291,
   "id": "3100d2f5",
   "metadata": {},
   "outputs": [
    {
     "name": "stdout",
     "output_type": "stream",
     "text": [
      "              precision    recall  f1-score   support\n",
      "\n",
      "           0       0.49      0.31      0.38      2931\n",
      "           1       0.52      0.43      0.47     10824\n",
      "           2       0.70      0.82      0.75     31864\n",
      "           3       0.54      0.48      0.51     13068\n",
      "           4       0.52      0.34      0.41      3737\n",
      "\n",
      "    accuracy                           0.63     62424\n",
      "   macro avg       0.55      0.48      0.51     62424\n",
      "weighted avg       0.61      0.63      0.62     62424\n",
      "\n"
     ]
    }
   ],
   "source": [
    "# non stemmed uni and bi gram\n",
    "print(classification_report(y_test, y_pred_svm_bi, target_names=target_names))"
   ]
  },
  {
   "cell_type": "code",
   "execution_count": 292,
   "id": "c7234e73",
   "metadata": {},
   "outputs": [
    {
     "name": "stdout",
     "output_type": "stream",
     "text": [
      "              precision    recall  f1-score   support\n",
      "\n",
      "           0       0.51      0.27      0.35      2931\n",
      "           1       0.51      0.40      0.45     10824\n",
      "           2       0.69      0.83      0.75     31864\n",
      "           3       0.53      0.48      0.50     13068\n",
      "           4       0.53      0.30      0.39      3737\n",
      "\n",
      "    accuracy                           0.63     62424\n",
      "   macro avg       0.55      0.46      0.49     62424\n",
      "weighted avg       0.61      0.63      0.61     62424\n",
      "\n"
     ]
    }
   ],
   "source": [
    "print(classification_report(y_test, y_pred, target_names=target_names))"
   ]
  },
  {
   "cell_type": "code",
   "execution_count": 293,
   "id": "5fca18c4",
   "metadata": {},
   "outputs": [],
   "source": [
    "# lists of dicts of scores\n",
    "stembimetics=           {'Very Negative\\nStemmed SVM precision':0.50,'Very Negative\\nBi and uni SVM precision':0.49\n",
    "                   ,'Very Negative\\nStemmed SVM recall':0.25,'Very Negative\\nBi and uni SVM recall':0.31\n",
    "                   ,'Very Negative\\nStemmed SVM f1-score':0.33,'Very Negative\\nBi and uni SVM f1-score':0.38\n",
    "                   ,'Somewhat Negative\\nStemmed SVM precision':0.51,'Somewhat Negative\\nBi and uni SVM precision':0.52\n",
    "                   ,'Somewhat Negative\\nStemmed SVM recall':0.41,'Somewhat Negative\\nBi and uni SVM recall':0.43\n",
    "                   ,'Somewhat Negative\\nStemmed SVM f1-score':0.46,'Somewhat Negative\\nBi and uni SVM f1-score':0.47\n",
    "                   ,'Neutral\\nStemmed SVM precision':0.69,'Neutral\\nBi and uni SVM precision':0.70\n",
    "                   ,'Neutral\\nStemmed SVM recall':0.84,'Neutral\\nBi and uni SVM recall':0.82\n",
    "                   ,'Neutral\\nStemmed SVM f1-score':0.76,'Neutral\\nBi and uni SVM f1-score':0.75\n",
    "                   ,'Somewhat Positive\\nStemmed SVM precision':0.54,'Somewhat Positive\\nBi and uni SVM precision':0.54\n",
    "                   ,'Somewhat Positive\\nStemmed SVM recall':0.47,'Somewhat Positive\\nBi and uni SVM recall':0.48\n",
    "                   ,'Somewhat Positive\\nStemmed SVM f1-score':0.50,'Somewhat Positive\\nBi and uni SVM f1-score':0.51\n",
    "                   ,'Very Positive\\nStemmed SVM precision':0.54,'Very Positive\\nBi and uni SVM precision':0.52\n",
    "                   ,'Very Positive\\nStemmed SVM recall':0.29,'Very Positive\\nBi and uni SVM recall':0.34\n",
    "                   ,'Very Positive\\nStemmed SVM f1-score':0.38,'Very Positive\\nBi and uni SVM f1-score':0.41}"
   ]
  },
  {
   "cell_type": "code",
   "execution_count": 319,
   "id": "da7f6ed7",
   "metadata": {},
   "outputs": [
    {
     "data": {
      "image/png": "[encoded data removed]",
      "text/plain": [
       "<Figure size 4320x720 with 1 Axes>"
      ]
     },
     "metadata": {
      "needs_background": "light"
     },
     "output_type": "display_data"
    }
   ],
   "source": [
    "import matplotlib.pyplot as plt\n",
    "\n",
    "# function to add value labels\n",
    "def addlabels(y):\n",
    "    for i in range(len(y)):\n",
    "        plt.text(i,y[i],y[i],fontweight = 'bold')\n",
    "\n",
    "\n",
    "values = list(stembimetics.values())\n",
    "names = list(stembimetics.keys())\n",
    "colors = ['red','red','red','red','red','red',\n",
    "          'darkorange','darkorange','darkorange','darkorange','darkorange','darkorange',\n",
    "          'blue','blue','blue','blue','blue','blue',\n",
    "          'yellow','yellow','yellow','yellow','yellow','yellow',\n",
    "          'green','green','green','green','green','green']\n",
    "plt.figure(figsize=(60, 10))\n",
    "\n",
    "plt.subplot(121)\n",
    "plt.bar(names\n",
    "        ,values\n",
    "        ,color= colors\n",
    "       )\n",
    "plt.xticks(rotation= 45)\n",
    "plt.ylabel('Percent')\n",
    "plt.xlabel('Precision, Recall, F1-score')\n",
    "plt.title('Bigram and Unigram SVM vs Unigram Stemmed SVM')\n",
    "addlabels(values)\n",
    "plt.show()"
   ]
  },
  {
   "cell_type": "markdown",
   "id": "82db0b56",
   "metadata": {},
   "source": [
    "# Bigram and unigram SVM vs unigram SVM"
   ]
  },
  {
   "cell_type": "code",
   "execution_count": 295,
   "id": "82d1e828",
   "metadata": {},
   "outputs": [],
   "source": [
    "# lists of dicts of scores\n",
    "metics=           {'Very Negative\\nuni precision':0.51,'Very Negative\\nBi and uni precision':0.49\n",
    "                   ,'Very Negative\\nuni recall':0.27,'Very Negative\\nBi and uni recall':0.31\n",
    "                   ,'Very Negative\\nuni f1-score':0.35,'Very Negative\\nBi and uni f1-score':0.38\n",
    "                   ,'Somewhat Negative\\nuni precision':0.51,'Somewhat Negative\\nBi and uni precision':0.52\n",
    "                   ,'Somewhat Negative\\nuni recall':0.40,'Somewhat Negative\\nBi and uni recall':0.43\n",
    "                   ,'Somewhat Negative\\nuni f1-score':0.45,'Somewhat Negative\\nBi and uni f1-score':0.47\n",
    "                   ,'Neutral\\nuni precision':0.69,'Neutral\\nBi and uni precision':0.70,'Neutral\\nuni recall':0.83\n",
    "                   ,'Neutral\\nBi and uni recall':0.82,'Neutral\\nuni f1-score':0.75,'Neutral\\nBi and uni f1-score':0.75\n",
    "                   ,'Somewhat Positive\\nuni precision':0.53,'Somewhat Positive\\nBi and uni precision':0.54\n",
    "                   ,'Somewhat Positive\\nuni recall':0.48,'Somewhat Positive\\nBi and uni recall':0.48\n",
    "                   ,'Somewhat Positive\\nuni f1-score':0.50,'Somewhat Positive\\nBi and uni f1-score':0.51\n",
    "                   ,'Very Positive\\nuni precision':0.53,'Very Positive\\nBi and uni precision':0.52\n",
    "                   ,'Very Positive\\nuni recall':0.30,'Very Positive\\nBi and uni recall':0.34\n",
    "                   ,'Very Positive\\nuni f1-score':0.39,'Very Positive\\nBi and uni f1-score':0.41}"
   ]
  },
  {
   "cell_type": "code",
   "execution_count": 320,
   "id": "e223098a",
   "metadata": {},
   "outputs": [
    {
     "data": {
      "image/png": "[encoded data removed]",
      "text/plain": [
       "<Figure size 4320x720 with 1 Axes>"
      ]
     },
     "metadata": {
      "needs_background": "light"
     },
     "output_type": "display_data"
    }
   ],
   "source": [
    "import matplotlib.pyplot as plt\n",
    "\n",
    "# function to add value labels\n",
    "def addlabels(y):\n",
    "    for i in range(len(y)):\n",
    "        plt.text(i,y[i],y[i],fontweight = 'bold')\n",
    "\n",
    "\n",
    "values = list(metics.values())\n",
    "names = list(metics.keys())\n",
    "colors = ['tomato','tomato','tomato','tomato','tomato','tomato',\n",
    "          'orange','orange','orange','orange','orange','orange',\n",
    "          'royalblue','royalblue','royalblue','royalblue','royalblue','royalblue',\n",
    "          'gold','gold','gold','gold','gold','gold',\n",
    "          'forestgreen','forestgreen','forestgreen','forestgreen','forestgreen','forestgreen']\n",
    "plt.figure(figsize=(60, 10))\n",
    "\n",
    "plt.subplot(121)\n",
    "plt.bar(names\n",
    "        ,values\n",
    "        ,color= colors\n",
    "       )\n",
    "plt.xticks(rotation= 45)\n",
    "plt.ylabel('Percent')\n",
    "plt.xlabel('Precision, Recall, F1-score')\n",
    "plt.title('Bigram and Unigram SVM vs Unigram SVM')\n",
    "addlabels(values)\n",
    "plt.show()"
   ]
  },
  {
   "cell_type": "markdown",
   "id": "fa6d1621",
   "metadata": {},
   "source": [
    "# cross validation Bigram and unigram SVM"
   ]
  },
  {
   "cell_type": "code",
   "execution_count": 297,
   "id": "ee127d62",
   "metadata": {},
   "outputs": [],
   "source": [
    "gram12_tfidf_vectorizer_2 = TfidfVectorizer(encoding='latin-1', ngram_range=(1,2),use_idf=True, min_df=5, stop_words='english')"
   ]
  },
  {
   "cell_type": "code",
   "execution_count": 298,
   "id": "fe5320d1",
   "metadata": {},
   "outputs": [],
   "source": [
    "# fitting and transforming the training data using the count vectorizer\n",
    "X_train_vec_cv = gram12_tfidf_vectorizer_2.fit_transform(X)"
   ]
  },
  {
   "cell_type": "code",
   "execution_count": 299,
   "id": "1872e2e1",
   "metadata": {},
   "outputs": [],
   "source": [
    "# import the LinearSVC module\n",
    "from sklearn.svm import LinearSVC\n",
    "\n",
    "# initialize the LinearSVC model\n",
    "svm3 = LinearSVC(C=1)"
   ]
  },
  {
   "cell_type": "code",
   "execution_count": 300,
   "id": "eb54d18a",
   "metadata": {},
   "outputs": [
    {
     "name": "stdout",
     "output_type": "stream",
     "text": [
      "Avg Accuracy: 0.5125784954504679\n"
     ]
    }
   ],
   "source": [
    "from sklearn.model_selection import cross_val_score\n",
    "import numpy as np\n",
    "svm_cv_scores = cross_val_score(svm3, X_train_vec_cv, y, cv=10)\n",
    "#finding the overall average accuracy.\n",
    "svm_cv_score = np.mean(svm_cv_scores)\n",
    "\n",
    "print('Avg Accuracy:',svm_cv_score)"
   ]
  },
  {
   "cell_type": "code",
   "execution_count": 301,
   "id": "f0f1b4a2",
   "metadata": {},
   "outputs": [],
   "source": [
    "svm_model_3 = svm3.fit(X_train_vec_cv,y)"
   ]
  },
  {
   "cell_type": "markdown",
   "id": "e3ad1391",
   "metadata": {},
   "source": [
    "# kaggle submission"
   ]
  },
  {
   "cell_type": "code",
   "execution_count": 302,
   "id": "f1f64194",
   "metadata": {},
   "outputs": [],
   "source": [
    "z_vec = gram12_tfidf_vectorizer_2.transform(z)"
   ]
  },
  {
   "cell_type": "code",
   "execution_count": 303,
   "id": "b08c9542",
   "metadata": {},
   "outputs": [],
   "source": [
    "kaggle_pred=svm_model_3.predict(z_vec)"
   ]
  },
  {
   "cell_type": "code",
   "execution_count": 304,
   "id": "c287c457",
   "metadata": {},
   "outputs": [],
   "source": [
    "# Kaggle Submission\n",
    "\n",
    "# combine the test example ids with their predictions\n",
    "kaggle_submission=zip(kaggle_ids, kaggle_pred)\n",
    "\n",
    "# prepare output file\n",
    "outf=open(r'C:\\Users\\Morga\\programsMG\\TextMining\\kaggle-sentiment\\linear_SVC.csv', 'w')\n",
    "\n",
    "# write header\n",
    "outf.write('PhraseId,Sentiment\\n')\n",
    "\n",
    "# write predictions with ids to the output file\n",
    "for x, value in enumerate(kaggle_submission): outf.write(str(value[0]) + ',' + str(value[1]) + '\\n')\n",
    "\n",
    "# close the output file\n",
    "outf.close()"
   ]
  }
 ],
 "metadata": {
  "kernelspec": {
   "display_name": "Python 3 (ipykernel)",
   "language": "python",
   "name": "python3"
  },
  "language_info": {
   "codemirror_mode": {
    "name": "ipython",
    "version": 3
   },
   "file_extension": ".py",
   "mimetype": "text/x-python",
   "name": "python",
   "nbconvert_exporter": "python",
   "pygments_lexer": "ipython3",
   "version": "3.8.8"
  }
 },
 "nbformat": 4,
 "nbformat_minor": 5
}
